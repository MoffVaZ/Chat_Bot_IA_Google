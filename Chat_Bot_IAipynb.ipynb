{
  "nbformat": 4,
  "nbformat_minor": 0,
  "metadata": {
    "colab": {
      "provenance": [],
      "authorship_tag": "ABX9TyNRfYlhlW7tGh5bBLfYQ5tS",
      "include_colab_link": true
    },
    "kernelspec": {
      "name": "python3",
      "display_name": "Python 3"
    },
    "language_info": {
      "name": "python"
    }
  },
  "cells": [
    {
      "cell_type": "markdown",
      "metadata": {
        "id": "view-in-github",
        "colab_type": "text"
      },
      "source": [
        "<a href=\"https://colab.research.google.com/github/MoffVaZ/Chat_Bot_IA_Google/blob/main/Chat_Bot_IAipynb.ipynb\" target=\"_parent\"><img src=\"https://colab.research.google.com/assets/colab-badge.svg\" alt=\"Open In Colab\"/></a>"
      ]
    },
    {
      "cell_type": "code",
      "execution_count": null,
      "metadata": {
        "id": "PR8em9770KHh"
      },
      "outputs": [],
      "source": [
        "# Instalacao o SDK do Google, !pip install -q -U google-generativeai\n",
        "\n",
        "import google.generativeai as genai\n",
        "\n",
        "from google.colab import userdata\n",
        "api_key = userdata.get(\"Secret_Key\")\n",
        "\n",
        "\n",
        "genai.configure(api_key = api_key)\n",
        "\n",
        "# Listar os modelos disponíveis (opcional)\n",
        "    # for m in genai.list_models():\n",
        "    #     if 'generateContent' in m.supported_generation_methods:\n",
        "    #         print(m.name)\n",
        "\n",
        "# Configuração de parâmetros\n",
        "\n",
        "generation_config = {\n",
        "    \"candidate_count\": 1,\n",
        "    \"temperature\": 0.5,\n",
        "}\n",
        "safety_settings = {\n",
        "    \"harassment\": \"Block_none\",\n",
        "    \"hate\": \"Block_none\",\n",
        "    \"sexual\": \"Block_none\",\n",
        "    \"dangerous\": \"Block_none\",\n",
        "}\n",
        "\n",
        "# Inicializando o Modelo\n",
        "\n",
        "model = genai.GenerativeModel(\n",
        "    model_name=\"gemini-1.0-pro\",\n",
        "    generation_config=generation_config,\n",
        "    safety_settings=safety_settings,\n",
        ")\n",
        "\n",
        "# Gerar o texto/imprimir a resposta (opcional)\n",
        "    # response = model.generate_content(\"Quero aprender conteúdos sobre IA. Me dê sugestões.\")\n",
        "    # print(response.text)\n",
        "\n",
        "# Criar o Chat Bot\n",
        "\n",
        "chat = model.start_chat(history=[])\n",
        "prompt = input(\"Esperando o prompt: \")\n",
        "while prompt != \"fim\":\n",
        "    response = chat.send_message(prompt)\n",
        "    print(\"Resposta:\", response.text, \"\\n\")\n",
        "    prompt = input(\"Esperando prompt: \")\n"
      ]
    },
    {
      "cell_type": "code",
      "source": [],
      "metadata": {
        "id": "EHdlQjwA3grT"
      },
      "execution_count": null,
      "outputs": []
    }
  ]
}